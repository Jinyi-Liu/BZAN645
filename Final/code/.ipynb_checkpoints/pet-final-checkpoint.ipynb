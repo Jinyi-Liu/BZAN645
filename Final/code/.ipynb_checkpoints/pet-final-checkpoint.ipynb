{
 "cells": [
  {
   "cell_type": "code",
   "execution_count": 1,
   "id": "d77a67f6-57f3-4d1e-aed8-70fab55ee645",
   "metadata": {},
   "outputs": [],
   "source": [
    "from functions import *\n",
    "\n",
    "# Set current path if running on docker\n",
    "path = '/app/code'\n",
    "# path='.'"
   ]
  },
  {
   "cell_type": "code",
   "execution_count": 2,
   "id": "15d54f92",
   "metadata": {},
   "outputs": [],
   "source": [
    "# Load data from csv\n",
    "train = pd.read_csv(path+'/data/train/train.csv')\n",
    "test = pd.read_csv(path+'/data/test/test.csv')"
   ]
  },
  {
   "cell_type": "code",
   "execution_count": 3,
   "id": "6923860a",
   "metadata": {},
   "outputs": [
    {
     "data": {
      "text/plain": [
       "(14993, 24)"
      ]
     },
     "execution_count": 3,
     "metadata": {},
     "output_type": "execute_result"
    }
   ],
   "source": [
    "train.shape"
   ]
  },
  {
   "cell_type": "code",
   "execution_count": 4,
   "id": "bbad9ee0",
   "metadata": {},
   "outputs": [
    {
     "data": {
      "text/plain": [
       "Index(['Type', 'Name', 'Age', 'Breed1', 'Breed2', 'Gender', 'Color1', 'Color2',\n",
       "       'Color3', 'MaturitySize', 'FurLength', 'Vaccinated', 'Dewormed',\n",
       "       'Sterilized', 'Health', 'Quantity', 'Fee', 'State', 'RescuerID',\n",
       "       'VideoAmt', 'Description', 'PetID', 'PhotoAmt', 'AdoptionSpeed'],\n",
       "      dtype='object')"
      ]
     },
     "execution_count": 4,
     "metadata": {},
     "output_type": "execute_result"
    }
   ],
   "source": [
    "train.columns"
   ]
  },
  {
   "cell_type": "markdown",
   "id": "0ef9ba75",
   "metadata": {},
   "source": [
    "## 1. Preprocessing"
   ]
  },
  {
   "cell_type": "code",
   "execution_count": 5,
   "id": "726041bc",
   "metadata": {},
   "outputs": [],
   "source": [
    "train_len = len(train)\n",
    "data_df = pd.concat([train, test], sort=False).reset_index(drop=True)\n",
    "data_df['Breed_full'] = data_df['Breed1'].astype(str)+'_'+data_df['Breed2'].astype(str)\n",
    "data_df['Color_full'] = data_df['Color1'].astype(str)+'_'+data_df['Color2'].astype(str)+'_'+data_df['Color3'].astype(str)\n",
    "\n",
    "data_df['Breed_full'],_ = pd.factorize(data_df['Breed_full'])\n",
    "data_df['Color_full'],_ = pd.factorize(data_df['Color_full'])\n",
    "data_df['State'],_ = pd.factorize(data_df['State'])\n",
    "\n",
    "data_df['hard_interaction'] = data_df['Type'].astype(str)+data_df['Gender'].astype(str)+ \\\n",
    "                              data_df['Vaccinated'].astype(str)+'_'+ \\\n",
    "                              data_df['Dewormed'].astype(str)+'_'+data_df['Sterilized'].astype(str)\n",
    "data_df['hard_interaction'],_ = pd.factorize(data_df['hard_interaction'])\n",
    "\n",
    "data_df['MaturitySize'] = data_df['MaturitySize'].replace(0, np.nan)\n",
    "data_df['FurLength'] = data_df['FurLength'].replace(0, np.nan)\n",
    "\n",
    "data_df['Vaccinated'] = data_df['Vaccinated'].replace(3, np.nan)\n",
    "data_df['Vaccinated'] = data_df['Vaccinated'].replace(2, 0)\n",
    "\n",
    "data_df['Dewormed'] = data_df['Dewormed'].replace(3, np.nan)\n",
    "data_df['Dewormed'] = data_df['Dewormed'].replace(2, 0)\n",
    "\n",
    "data_df['Sterilized'] = data_df['Sterilized'].replace(3, np.nan)\n",
    "data_df['Sterilized'] = data_df['Sterilized'].replace(2, 0)\n",
    "\n",
    "\n",
    "data_df['Health'] = data_df['Health'].replace(0, np.nan)\n",
    "data_df['age_in_year'] = (data_df['Age']//12).astype(np.int8)\n",
    "data_df['avg_fee'] = data_df['Fee']/data_df['Quantity']\n",
    "data_df['avg_photo'] = data_df['PhotoAmt']/data_df['Quantity']\n",
    "\n",
    "# name feature\n",
    "pattern = re.compile(r\"[0-9\\.:!]\")\n",
    "data_df['empty_name'] = data_df['Name'].isnull().astype(np.int8)\n",
    "data_df['Name'] =data_df['Name'].fillna('')\n",
    "data_df['name_len'] = data_df['Name'].apply(lambda x: len(x))\n",
    "data_df['strange_name'] = data_df['Name'].apply(lambda x: len(pattern.findall(x))>0).astype(np.int8)"
   ]
  },
  {
   "cell_type": "code",
   "execution_count": 6,
   "id": "920db524",
   "metadata": {},
   "outputs": [],
   "source": [
    "data_df['color_num'] = 1\n",
    "data_df['color_num'] += data_df['Color2'].apply(lambda x: 1 if x!=0 else 0)\n",
    "data_df['color_num'] += data_df['Color3'].apply(lambda x: 1 if x!=0 else 0)"
   ]
  },
  {
   "cell_type": "code",
   "execution_count": 7,
   "id": "599a4701",
   "metadata": {},
   "outputs": [],
   "source": [
    "# breed feature\n",
    "labels_breed = pd.read_csv(path+'/data/breed_labels.csv')\n",
    "labels_breed.rename(index=str, columns={'BreedName':'Breed1Name'},inplace=True)\n",
    "labels_breed['Breed2Name'] = labels_breed['Breed1Name'].values"
   ]
  },
  {
   "cell_type": "code",
   "execution_count": 8,
   "id": "f91c2e59",
   "metadata": {},
   "outputs": [],
   "source": [
    "data_df = data_df.merge(labels_breed[['BreedID','Breed1Name']], left_on='Breed1', right_on='BreedID', how='left')\n",
    "data_df.drop('BreedID',axis=1,inplace=True)\n",
    "data_df = data_df.merge(labels_breed[['BreedID','Breed2Name']], left_on='Breed2', right_on='BreedID', how='left')\n",
    "data_df.drop('BreedID',axis=1,inplace=True)\n",
    "data_df['Breed2Name'].fillna('',inplace=True)\n",
    "data_df['BreedName_full'] = data_df['Breed1Name']+' '+data_df['Breed2Name']"
   ]
  },
  {
   "cell_type": "code",
   "execution_count": 9,
   "id": "ca3ebaa3",
   "metadata": {},
   "outputs": [],
   "source": [
    "data_df['breed_noname'] = data_df['BreedName_full'].isnull().astype(np.int8)\n",
    "data_df['BreedName_full'].fillna('',inplace=True)\n",
    "data_df['BreedName_full'] = data_df['BreedName_full'].str.lower()"
   ]
  },
  {
   "cell_type": "code",
   "execution_count": 10,
   "id": "fc49f293",
   "metadata": {},
   "outputs": [],
   "source": [
    "data_df['breed_num'] = 1\n",
    "data_df['breed_num'] += data_df['Breed2'].apply(lambda x: 1 if x!=0 else 0)\n",
    "data_df['breed_mixed'] = data_df['BreedName_full'].apply(lambda x: x.find('mixed')>=0).astype(np.int8)\n",
    "data_df['breed_Domestic'] = data_df['BreedName_full'].apply(lambda x: x.find('domestic')>=0).astype(np.int8)\n",
    "data_df['pure_breed'] = ((data_df['breed_num']==1)&(data_df['breed_mixed']==0)).astype(np.int8)"
   ]
  },
  {
   "cell_type": "markdown",
   "id": "6a63a56e",
   "metadata": {},
   "source": [
    "### Split the data"
   ]
  },
  {
   "cell_type": "code",
   "execution_count": 11,
   "id": "46b922d9",
   "metadata": {},
   "outputs": [],
   "source": [
    "n_splits = 5\n",
    "split_index = []\n",
    "\n",
    "kfold = StratifiedKFold(n_splits=n_splits)\n",
    "for train_idx, valid_idx in kfold.split(train, train['AdoptionSpeed']):\n",
    "    split_index.append((train_idx, valid_idx))"
   ]
  },
  {
   "cell_type": "markdown",
   "id": "43943b3c",
   "metadata": {},
   "source": [
    "## 2. Feature Engineering"
   ]
  },
  {
   "cell_type": "code",
   "execution_count": 12,
   "id": "133a03b6",
   "metadata": {},
   "outputs": [],
   "source": [
    "feat_df = data_df[['PetID','Color1','Breed1','State','RescuerID','Name','Breed_full','Color_full','hard_interaction']]"
   ]
  },
  {
   "cell_type": "markdown",
   "id": "61720741",
   "metadata": {},
   "source": [
    "### Color feature"
   ]
  },
  {
   "cell_type": "code",
   "execution_count": 13,
   "id": "d5721e01",
   "metadata": {},
   "outputs": [],
   "source": [
    "agg = {\n",
    "    'Fee':['mean','std','max'],\n",
    "    'avg_fee':['mean','std','max'],\n",
    "    'Breed1':['nunique'],\n",
    "    #'Gender':['nunique'],\n",
    "    'Age':['mean','std','max'], \n",
    "    'Quantity':['std'],\n",
    "    'PetID':['nunique']\n",
    "}\n",
    "feat = data_df.groupby('Color1').agg(agg)\n",
    "feat.columns = pd.Index(['COLOR_' + e[0] + \"_\" + e[1].upper() for e in feat.columns.tolist()])\n",
    "feat.reset_index(inplace=True)\n",
    "feat_df = feat_df.merge(feat, on='Color1', how='left')\n",
    "\n",
    "agg = {\n",
    "    'Fee':['mean','std','max'],\n",
    "    'avg_fee':['mean','std','max'],\n",
    "    'Breed_full':['nunique'],\n",
    "    'Quantity':['sum'],\n",
    "}\n",
    "feat = data_df.groupby('Color_full').agg(agg)\n",
    "feat.columns = pd.Index(['COLORfull_' + e[0] + \"_\" + e[1].upper() for e in feat.columns.tolist()])\n",
    "feat.reset_index(inplace=True)\n",
    "feat_df = feat_df.merge(feat, on='Color_full', how='left')"
   ]
  },
  {
   "cell_type": "markdown",
   "id": "83a7ac5c",
   "metadata": {},
   "source": [
    "### Breed feature"
   ]
  },
  {
   "cell_type": "code",
   "execution_count": 14,
   "id": "bb0f3189",
   "metadata": {},
   "outputs": [],
   "source": [
    "agg = {\n",
    "    'Color_full':['nunique'],\n",
    "    'Breed2':['nunique'],\n",
    "    'FurLength':['nunique'],\n",
    "    'Fee':['mean','max'],\n",
    "    'avg_fee':['mean','std','max'],\n",
    "    'Age':['mean','std','min','max'],\n",
    "    'Quantity':['mean','std','max','sum'],\n",
    "    'PetID':['nunique'],\n",
    "    'FurLength':['mean'],\n",
    "    'Health':['mean'],\n",
    "    'MaturitySize':['mean','std','min','max'],\n",
    "    'Vaccinated':['mean'],\n",
    "    'Dewormed':['mean'],\n",
    "    'Sterilized':['mean']\n",
    "}\n",
    "feat = data_df.groupby('Breed1').agg(agg)\n",
    "feat.columns = pd.Index(['BREED1_' + e[0] + \"_\" + e[1].upper() for e in feat.columns.tolist()])\n",
    "feat.reset_index(inplace=True)\n",
    "feat_df = feat_df.merge(feat, on='Breed1', how='left')\n",
    "\n",
    "# Breed feature\n",
    "agg = {\n",
    "    'Color_full':['nunique'],\n",
    "    'Fee':['mean','min','max'],\n",
    "    'avg_fee':['mean','std','max'],\n",
    "    'Quantity':['sum'],\n",
    "    'PetID':['nunique']\n",
    "}\n",
    "feat = data_df.groupby('Breed_full').agg(agg)\n",
    "feat.columns = pd.Index(['BREEDfull_' + e[0] + \"_\" + e[1].upper() for e in feat.columns.tolist()])\n",
    "feat.reset_index(inplace=True)\n",
    "feat_df = feat_df.merge(feat, on='Breed_full', how='left')"
   ]
  },
  {
   "cell_type": "markdown",
   "id": "d86196ec",
   "metadata": {},
   "source": [
    "### State feature"
   ]
  },
  {
   "cell_type": "code",
   "execution_count": 15,
   "id": "4f5eeeb5",
   "metadata": {},
   "outputs": [],
   "source": [
    "agg = {\n",
    "    'Color_full':['nunique'],\n",
    "    'Breed_full':['nunique'],\n",
    "    'PetID':['nunique'],\n",
    "    'RescuerID':['nunique'],\n",
    "    'Fee':['mean','max'],\n",
    "    'avg_fee':['mean','std','max'],\n",
    "    'Age':['mean','std','max'],\n",
    "    'Quantity':['mean','std','max'],#,'min','sum'\n",
    "    'FurLength':['mean','std'],\n",
    "    'Health':['mean'],\n",
    "    'MaturitySize':['mean','std'],\n",
    "    'Vaccinated':['mean'],\n",
    "    'Dewormed':['mean'],\n",
    "    'Sterilized':['mean'],\n",
    "    'VideoAmt':['mean','std'],\n",
    "    'PhotoAmt':['mean','std'],\n",
    "    'avg_photo':['mean','std']\n",
    "}\n",
    "feat = data_df.groupby('State').agg(agg)\n",
    "feat.columns = pd.Index(['STATE_' + e[0] + \"_\" + e[1].upper() for e in feat.columns.tolist()])\n",
    "feat.reset_index(inplace=True)\n",
    "feat_df = feat_df.merge(feat, on='State', how='left')"
   ]
  },
  {
   "cell_type": "markdown",
   "id": "55033c51",
   "metadata": {},
   "source": [
    "### Multiple feature"
   ]
  },
  {
   "cell_type": "code",
   "execution_count": 16,
   "id": "594f71c6",
   "metadata": {},
   "outputs": [],
   "source": [
    "# multiple agg\n",
    "agg = {\n",
    "    'Fee':['mean','min','max'],\n",
    "    'avg_fee':['mean','min','max'],\n",
    "    'Age':['mean','std','min','max'],\n",
    "    'Quantity':['mean','std','sum'],\n",
    "    'PetID':['nunique'],\n",
    "    'FurLength':['mean'],\n",
    "    'Health':['mean'],\n",
    "    'MaturitySize':['mean','std'],\n",
    "    'Vaccinated':['mean'],\n",
    "    'Dewormed':['mean'],\n",
    "    'Sterilized':['mean']\n",
    "}\n",
    "feat = data_df.groupby(['State','Breed1','Color1']).agg(agg)\n",
    "feat.columns = pd.Index(['MULTI_' + e[0] + \"_\" + e[1].upper() for e in feat.columns.tolist()])\n",
    "feat.reset_index(inplace=True)\n",
    "feat_df = feat_df.merge(feat, on=['State','Breed1','Color1'], how='left')\n",
    "\n",
    "agg = {\n",
    "    'Fee':['mean','min','max'],\n",
    "    'avg_fee':['mean','min','max'],\n",
    "    'Age':['mean','std','min','max'],\n",
    "    'Quantity':['mean','std','sum'],\n",
    "    'PetID':['nunique'],\n",
    "}\n",
    "feat = data_df.groupby(['State','Breed_full','Color_full']).agg(agg)\n",
    "feat.columns = pd.Index(['MULTI2_' + e[0] + \"_\" + e[1].upper() for e in feat.columns.tolist()])\n",
    "feat.reset_index(inplace=True)\n",
    "feat_df = feat_df.merge(feat, on=['State','Breed_full','Color_full'], how='left')"
   ]
  },
  {
   "cell_type": "markdown",
   "id": "fdd31344",
   "metadata": {},
   "source": [
    "### Name feature"
   ]
  },
  {
   "cell_type": "code",
   "execution_count": 17,
   "id": "d2c17785",
   "metadata": {},
   "outputs": [],
   "source": [
    "# name feature\n",
    "feat = data_df.groupby('Name')['PetID'].agg(name_count='nunique').reset_index()\n",
    "feat_df = feat_df.merge(feat, on='Name', how='left')"
   ]
  },
  {
   "cell_type": "markdown",
   "id": "56b62d60",
   "metadata": {},
   "source": [
    "### Count RescuerID occurrences"
   ]
  },
  {
   "cell_type": "code",
   "execution_count": 18,
   "id": "bf757478",
   "metadata": {},
   "outputs": [],
   "source": [
    "agg = {\n",
    "    'PetID':['nunique'],\n",
    "    'Breed_full':['nunique'],\n",
    "    'VideoAmt':['mean','std'],\n",
    "    'PhotoAmt':['mean','std'],\n",
    "    'avg_photo':['mean','std'],\n",
    "    'Sterilized':['mean'],\n",
    "    'Dewormed':['mean'],\n",
    "    'Vaccinated':['mean']\n",
    "}\n",
    "rescuer_count = data_df.groupby(['RescuerID']).agg(agg)\n",
    "rescuer_count.columns = pd.Index(['RESCUER_' + e[0] + \"_\" + e[1].upper() for e in rescuer_count.columns.tolist()])\n",
    "rescuer_count.reset_index(inplace=True)\n",
    "feat_df = feat_df.merge(rescuer_count, how='left', on='RescuerID')"
   ]
  },
  {
   "cell_type": "markdown",
   "id": "e89f0d0a",
   "metadata": {},
   "source": [
    "### Hard_interaction feature"
   ]
  },
  {
   "cell_type": "code",
   "execution_count": 19,
   "id": "695c7587",
   "metadata": {},
   "outputs": [],
   "source": [
    "agg = {\n",
    "    'Fee':['mean','min','max'],\n",
    "    'avg_fee':['mean','std','max']\n",
    "}\n",
    "feat = data_df.groupby('hard_interaction').agg(agg)\n",
    "feat.columns = pd.Index(['INTERACTION_' + e[0] + \"_\" + e[1].upper() for e in feat.columns.tolist()])\n",
    "feat.reset_index(inplace=True)\n",
    "feat_df = feat_df.merge(feat, on='hard_interaction', how='left')"
   ]
  },
  {
   "cell_type": "markdown",
   "id": "5d12bf3b",
   "metadata": {},
   "source": [
    "### Drop unnecessary columns"
   ]
  },
  {
   "cell_type": "code",
   "execution_count": 20,
   "id": "62588ada",
   "metadata": {},
   "outputs": [],
   "source": [
    "feat_df.drop(['Color1','Breed1','State','RescuerID','Name','Breed_full','Color_full','hard_interaction'], axis=1, inplace=True)"
   ]
  },
  {
   "cell_type": "code",
   "execution_count": 21,
   "id": "437407e1",
   "metadata": {},
   "outputs": [
    {
     "data": {
      "text/html": [
       "<div>\n",
       "<style scoped>\n",
       "    .dataframe tbody tr th:only-of-type {\n",
       "        vertical-align: middle;\n",
       "    }\n",
       "\n",
       "    .dataframe tbody tr th {\n",
       "        vertical-align: top;\n",
       "    }\n",
       "\n",
       "    .dataframe thead th {\n",
       "        text-align: right;\n",
       "    }\n",
       "</style>\n",
       "<table border=\"1\" class=\"dataframe\">\n",
       "  <thead>\n",
       "    <tr style=\"text-align: right;\">\n",
       "      <th></th>\n",
       "      <th>PetID</th>\n",
       "      <th>COLOR_Fee_MEAN</th>\n",
       "      <th>COLOR_Fee_STD</th>\n",
       "      <th>COLOR_Fee_MAX</th>\n",
       "      <th>COLOR_avg_fee_MEAN</th>\n",
       "      <th>COLOR_avg_fee_STD</th>\n",
       "      <th>COLOR_avg_fee_MAX</th>\n",
       "      <th>COLOR_Breed1_NUNIQUE</th>\n",
       "      <th>COLOR_Age_MEAN</th>\n",
       "      <th>COLOR_Age_STD</th>\n",
       "      <th>...</th>\n",
       "      <th>RESCUER_avg_photo_STD</th>\n",
       "      <th>RESCUER_Sterilized_MEAN</th>\n",
       "      <th>RESCUER_Dewormed_MEAN</th>\n",
       "      <th>RESCUER_Vaccinated_MEAN</th>\n",
       "      <th>INTERACTION_Fee_MEAN</th>\n",
       "      <th>INTERACTION_Fee_MIN</th>\n",
       "      <th>INTERACTION_Fee_MAX</th>\n",
       "      <th>INTERACTION_avg_fee_MEAN</th>\n",
       "      <th>INTERACTION_avg_fee_STD</th>\n",
       "      <th>INTERACTION_avg_fee_MAX</th>\n",
       "    </tr>\n",
       "  </thead>\n",
       "  <tbody>\n",
       "    <tr>\n",
       "      <th>0</th>\n",
       "      <td>86e1089a3</td>\n",
       "      <td>18.744265</td>\n",
       "      <td>76.670089</td>\n",
       "      <td>3000</td>\n",
       "      <td>16.732534</td>\n",
       "      <td>67.542356</td>\n",
       "      <td>1500.0</td>\n",
       "      <td>146</td>\n",
       "      <td>8.711980</td>\n",
       "      <td>15.703401</td>\n",
       "      <td>...</td>\n",
       "      <td>1.060660</td>\n",
       "      <td>0.000000</td>\n",
       "      <td>0.000000</td>\n",
       "      <td>0.000000</td>\n",
       "      <td>10.438579</td>\n",
       "      <td>0</td>\n",
       "      <td>500</td>\n",
       "      <td>9.860575</td>\n",
       "      <td>37.517683</td>\n",
       "      <td>500.0</td>\n",
       "    </tr>\n",
       "    <tr>\n",
       "      <th>1</th>\n",
       "      <td>6296e909a</td>\n",
       "      <td>18.744265</td>\n",
       "      <td>76.670089</td>\n",
       "      <td>3000</td>\n",
       "      <td>16.732534</td>\n",
       "      <td>67.542356</td>\n",
       "      <td>1500.0</td>\n",
       "      <td>146</td>\n",
       "      <td>8.711980</td>\n",
       "      <td>15.703401</td>\n",
       "      <td>...</td>\n",
       "      <td>NaN</td>\n",
       "      <td>NaN</td>\n",
       "      <td>NaN</td>\n",
       "      <td>NaN</td>\n",
       "      <td>7.621302</td>\n",
       "      <td>0</td>\n",
       "      <td>500</td>\n",
       "      <td>7.029586</td>\n",
       "      <td>49.694115</td>\n",
       "      <td>500.0</td>\n",
       "    </tr>\n",
       "    <tr>\n",
       "      <th>2</th>\n",
       "      <td>3422e4906</td>\n",
       "      <td>20.402128</td>\n",
       "      <td>77.129227</td>\n",
       "      <td>2000</td>\n",
       "      <td>18.973187</td>\n",
       "      <td>74.027704</td>\n",
       "      <td>2000.0</td>\n",
       "      <td>135</td>\n",
       "      <td>11.804681</td>\n",
       "      <td>19.450346</td>\n",
       "      <td>...</td>\n",
       "      <td>2.179079</td>\n",
       "      <td>0.144796</td>\n",
       "      <td>0.959184</td>\n",
       "      <td>0.952941</td>\n",
       "      <td>38.650330</td>\n",
       "      <td>0</td>\n",
       "      <td>700</td>\n",
       "      <td>37.996073</td>\n",
       "      <td>101.708699</td>\n",
       "      <td>700.0</td>\n",
       "    </tr>\n",
       "    <tr>\n",
       "      <th>3</th>\n",
       "      <td>5842f1ff5</td>\n",
       "      <td>18.744265</td>\n",
       "      <td>76.670089</td>\n",
       "      <td>3000</td>\n",
       "      <td>16.732534</td>\n",
       "      <td>67.542356</td>\n",
       "      <td>1500.0</td>\n",
       "      <td>146</td>\n",
       "      <td>8.711980</td>\n",
       "      <td>15.703401</td>\n",
       "      <td>...</td>\n",
       "      <td>4.707039</td>\n",
       "      <td>0.300000</td>\n",
       "      <td>0.877551</td>\n",
       "      <td>0.489796</td>\n",
       "      <td>37.690031</td>\n",
       "      <td>0</td>\n",
       "      <td>1500</td>\n",
       "      <td>36.557373</td>\n",
       "      <td>114.952243</td>\n",
       "      <td>1000.0</td>\n",
       "    </tr>\n",
       "    <tr>\n",
       "      <th>4</th>\n",
       "      <td>850a43f90</td>\n",
       "      <td>18.744265</td>\n",
       "      <td>76.670089</td>\n",
       "      <td>3000</td>\n",
       "      <td>16.732534</td>\n",
       "      <td>67.542356</td>\n",
       "      <td>1500.0</td>\n",
       "      <td>146</td>\n",
       "      <td>8.711980</td>\n",
       "      <td>15.703401</td>\n",
       "      <td>...</td>\n",
       "      <td>1.233783</td>\n",
       "      <td>0.046875</td>\n",
       "      <td>0.795455</td>\n",
       "      <td>0.750000</td>\n",
       "      <td>7.871345</td>\n",
       "      <td>0</td>\n",
       "      <td>500</td>\n",
       "      <td>6.997772</td>\n",
       "      <td>35.615495</td>\n",
       "      <td>500.0</td>\n",
       "    </tr>\n",
       "  </tbody>\n",
       "</table>\n",
       "<p>5 rows × 137 columns</p>\n",
       "</div>"
      ],
      "text/plain": [
       "       PetID  COLOR_Fee_MEAN  COLOR_Fee_STD  COLOR_Fee_MAX  \\\n",
       "0  86e1089a3       18.744265      76.670089           3000   \n",
       "1  6296e909a       18.744265      76.670089           3000   \n",
       "2  3422e4906       20.402128      77.129227           2000   \n",
       "3  5842f1ff5       18.744265      76.670089           3000   \n",
       "4  850a43f90       18.744265      76.670089           3000   \n",
       "\n",
       "   COLOR_avg_fee_MEAN  COLOR_avg_fee_STD  COLOR_avg_fee_MAX  \\\n",
       "0           16.732534          67.542356             1500.0   \n",
       "1           16.732534          67.542356             1500.0   \n",
       "2           18.973187          74.027704             2000.0   \n",
       "3           16.732534          67.542356             1500.0   \n",
       "4           16.732534          67.542356             1500.0   \n",
       "\n",
       "   COLOR_Breed1_NUNIQUE  COLOR_Age_MEAN  COLOR_Age_STD  ...  \\\n",
       "0                   146        8.711980      15.703401  ...   \n",
       "1                   146        8.711980      15.703401  ...   \n",
       "2                   135       11.804681      19.450346  ...   \n",
       "3                   146        8.711980      15.703401  ...   \n",
       "4                   146        8.711980      15.703401  ...   \n",
       "\n",
       "   RESCUER_avg_photo_STD  RESCUER_Sterilized_MEAN  RESCUER_Dewormed_MEAN  \\\n",
       "0               1.060660                 0.000000               0.000000   \n",
       "1                    NaN                      NaN                    NaN   \n",
       "2               2.179079                 0.144796               0.959184   \n",
       "3               4.707039                 0.300000               0.877551   \n",
       "4               1.233783                 0.046875               0.795455   \n",
       "\n",
       "   RESCUER_Vaccinated_MEAN  INTERACTION_Fee_MEAN  INTERACTION_Fee_MIN  \\\n",
       "0                 0.000000             10.438579                    0   \n",
       "1                      NaN              7.621302                    0   \n",
       "2                 0.952941             38.650330                    0   \n",
       "3                 0.489796             37.690031                    0   \n",
       "4                 0.750000              7.871345                    0   \n",
       "\n",
       "   INTERACTION_Fee_MAX  INTERACTION_avg_fee_MEAN  INTERACTION_avg_fee_STD  \\\n",
       "0                  500                  9.860575                37.517683   \n",
       "1                  500                  7.029586                49.694115   \n",
       "2                  700                 37.996073               101.708699   \n",
       "3                 1500                 36.557373               114.952243   \n",
       "4                  500                  6.997772                35.615495   \n",
       "\n",
       "   INTERACTION_avg_fee_MAX  \n",
       "0                    500.0  \n",
       "1                    500.0  \n",
       "2                    700.0  \n",
       "3                   1000.0  \n",
       "4                    500.0  \n",
       "\n",
       "[5 rows x 137 columns]"
      ]
     },
     "execution_count": 21,
     "metadata": {},
     "output_type": "execute_result"
    }
   ],
   "source": [
    "feat_df.head()"
   ]
  },
  {
   "cell_type": "markdown",
   "id": "12204037",
   "metadata": {},
   "source": [
    "### Merge features into train and test"
   ]
  },
  {
   "cell_type": "code",
   "execution_count": 22,
   "id": "deb3f5f1",
   "metadata": {},
   "outputs": [],
   "source": [
    "data_df_proc = data_df.copy()\n",
    "data_df_proc = data_df_proc.merge(feat_df, how='left', on='PetID')"
   ]
  },
  {
   "cell_type": "code",
   "execution_count": 23,
   "id": "52970660",
   "metadata": {},
   "outputs": [
    {
     "data": {
      "text/html": [
       "<div>\n",
       "<style scoped>\n",
       "    .dataframe tbody tr th:only-of-type {\n",
       "        vertical-align: middle;\n",
       "    }\n",
       "\n",
       "    .dataframe tbody tr th {\n",
       "        vertical-align: top;\n",
       "    }\n",
       "\n",
       "    .dataframe thead th {\n",
       "        text-align: right;\n",
       "    }\n",
       "</style>\n",
       "<table border=\"1\" class=\"dataframe\">\n",
       "  <thead>\n",
       "    <tr style=\"text-align: right;\">\n",
       "      <th></th>\n",
       "      <th>Type</th>\n",
       "      <th>Name</th>\n",
       "      <th>Age</th>\n",
       "      <th>Breed1</th>\n",
       "      <th>Breed2</th>\n",
       "      <th>Gender</th>\n",
       "      <th>Color1</th>\n",
       "      <th>Color2</th>\n",
       "      <th>Color3</th>\n",
       "      <th>MaturitySize</th>\n",
       "      <th>...</th>\n",
       "      <th>RESCUER_avg_photo_STD</th>\n",
       "      <th>RESCUER_Sterilized_MEAN</th>\n",
       "      <th>RESCUER_Dewormed_MEAN</th>\n",
       "      <th>RESCUER_Vaccinated_MEAN</th>\n",
       "      <th>INTERACTION_Fee_MEAN</th>\n",
       "      <th>INTERACTION_Fee_MIN</th>\n",
       "      <th>INTERACTION_Fee_MAX</th>\n",
       "      <th>INTERACTION_avg_fee_MEAN</th>\n",
       "      <th>INTERACTION_avg_fee_STD</th>\n",
       "      <th>INTERACTION_avg_fee_MAX</th>\n",
       "    </tr>\n",
       "  </thead>\n",
       "  <tbody>\n",
       "    <tr>\n",
       "      <th>0</th>\n",
       "      <td>2</td>\n",
       "      <td>Nibble</td>\n",
       "      <td>3</td>\n",
       "      <td>299</td>\n",
       "      <td>0</td>\n",
       "      <td>1</td>\n",
       "      <td>1</td>\n",
       "      <td>7</td>\n",
       "      <td>0</td>\n",
       "      <td>1</td>\n",
       "      <td>...</td>\n",
       "      <td>1.060660</td>\n",
       "      <td>0.000000</td>\n",
       "      <td>0.000000</td>\n",
       "      <td>0.000000</td>\n",
       "      <td>10.438579</td>\n",
       "      <td>0</td>\n",
       "      <td>500</td>\n",
       "      <td>9.860575</td>\n",
       "      <td>37.517683</td>\n",
       "      <td>500.0</td>\n",
       "    </tr>\n",
       "    <tr>\n",
       "      <th>1</th>\n",
       "      <td>2</td>\n",
       "      <td>No Name Yet</td>\n",
       "      <td>1</td>\n",
       "      <td>265</td>\n",
       "      <td>0</td>\n",
       "      <td>1</td>\n",
       "      <td>1</td>\n",
       "      <td>2</td>\n",
       "      <td>0</td>\n",
       "      <td>2</td>\n",
       "      <td>...</td>\n",
       "      <td>NaN</td>\n",
       "      <td>NaN</td>\n",
       "      <td>NaN</td>\n",
       "      <td>NaN</td>\n",
       "      <td>7.621302</td>\n",
       "      <td>0</td>\n",
       "      <td>500</td>\n",
       "      <td>7.029586</td>\n",
       "      <td>49.694115</td>\n",
       "      <td>500.0</td>\n",
       "    </tr>\n",
       "    <tr>\n",
       "      <th>2</th>\n",
       "      <td>1</td>\n",
       "      <td>Brisco</td>\n",
       "      <td>1</td>\n",
       "      <td>307</td>\n",
       "      <td>0</td>\n",
       "      <td>1</td>\n",
       "      <td>2</td>\n",
       "      <td>7</td>\n",
       "      <td>0</td>\n",
       "      <td>2</td>\n",
       "      <td>...</td>\n",
       "      <td>2.179079</td>\n",
       "      <td>0.144796</td>\n",
       "      <td>0.959184</td>\n",
       "      <td>0.952941</td>\n",
       "      <td>38.650330</td>\n",
       "      <td>0</td>\n",
       "      <td>700</td>\n",
       "      <td>37.996073</td>\n",
       "      <td>101.708699</td>\n",
       "      <td>700.0</td>\n",
       "    </tr>\n",
       "    <tr>\n",
       "      <th>3</th>\n",
       "      <td>1</td>\n",
       "      <td>Miko</td>\n",
       "      <td>4</td>\n",
       "      <td>307</td>\n",
       "      <td>0</td>\n",
       "      <td>2</td>\n",
       "      <td>1</td>\n",
       "      <td>2</td>\n",
       "      <td>0</td>\n",
       "      <td>2</td>\n",
       "      <td>...</td>\n",
       "      <td>4.707039</td>\n",
       "      <td>0.300000</td>\n",
       "      <td>0.877551</td>\n",
       "      <td>0.489796</td>\n",
       "      <td>37.690031</td>\n",
       "      <td>0</td>\n",
       "      <td>1500</td>\n",
       "      <td>36.557373</td>\n",
       "      <td>114.952243</td>\n",
       "      <td>1000.0</td>\n",
       "    </tr>\n",
       "    <tr>\n",
       "      <th>4</th>\n",
       "      <td>1</td>\n",
       "      <td>Hunter</td>\n",
       "      <td>1</td>\n",
       "      <td>307</td>\n",
       "      <td>0</td>\n",
       "      <td>1</td>\n",
       "      <td>1</td>\n",
       "      <td>0</td>\n",
       "      <td>0</td>\n",
       "      <td>2</td>\n",
       "      <td>...</td>\n",
       "      <td>1.233783</td>\n",
       "      <td>0.046875</td>\n",
       "      <td>0.795455</td>\n",
       "      <td>0.750000</td>\n",
       "      <td>7.871345</td>\n",
       "      <td>0</td>\n",
       "      <td>500</td>\n",
       "      <td>6.997772</td>\n",
       "      <td>35.615495</td>\n",
       "      <td>500.0</td>\n",
       "    </tr>\n",
       "  </tbody>\n",
       "</table>\n",
       "<p>5 rows × 178 columns</p>\n",
       "</div>"
      ],
      "text/plain": [
       "   Type         Name  Age  Breed1  Breed2  Gender  Color1  Color2  Color3  \\\n",
       "0     2       Nibble    3     299       0       1       1       7       0   \n",
       "1     2  No Name Yet    1     265       0       1       1       2       0   \n",
       "2     1       Brisco    1     307       0       1       2       7       0   \n",
       "3     1         Miko    4     307       0       2       1       2       0   \n",
       "4     1       Hunter    1     307       0       1       1       0       0   \n",
       "\n",
       "   MaturitySize  ...  RESCUER_avg_photo_STD  RESCUER_Sterilized_MEAN  \\\n",
       "0             1  ...               1.060660                 0.000000   \n",
       "1             2  ...                    NaN                      NaN   \n",
       "2             2  ...               2.179079                 0.144796   \n",
       "3             2  ...               4.707039                 0.300000   \n",
       "4             2  ...               1.233783                 0.046875   \n",
       "\n",
       "   RESCUER_Dewormed_MEAN  RESCUER_Vaccinated_MEAN  INTERACTION_Fee_MEAN  \\\n",
       "0               0.000000                 0.000000             10.438579   \n",
       "1                    NaN                      NaN              7.621302   \n",
       "2               0.959184                 0.952941             38.650330   \n",
       "3               0.877551                 0.489796             37.690031   \n",
       "4               0.795455                 0.750000              7.871345   \n",
       "\n",
       "   INTERACTION_Fee_MIN  INTERACTION_Fee_MAX  INTERACTION_avg_fee_MEAN  \\\n",
       "0                    0                  500                  9.860575   \n",
       "1                    0                  500                  7.029586   \n",
       "2                    0                  700                 37.996073   \n",
       "3                    0                 1500                 36.557373   \n",
       "4                    0                  500                  6.997772   \n",
       "\n",
       "  INTERACTION_avg_fee_STD  INTERACTION_avg_fee_MAX  \n",
       "0               37.517683                    500.0  \n",
       "1               49.694115                    500.0  \n",
       "2              101.708699                    700.0  \n",
       "3              114.952243                   1000.0  \n",
       "4               35.615495                    500.0  \n",
       "\n",
       "[5 rows x 178 columns]"
      ]
     },
     "execution_count": 23,
     "metadata": {},
     "output_type": "execute_result"
    }
   ],
   "source": [
    "data_df_proc.head()"
   ]
  },
  {
   "cell_type": "markdown",
   "id": "843e77ad",
   "metadata": {},
   "source": [
    "## 3. Modeling"
   ]
  },
  {
   "cell_type": "markdown",
   "id": "5322e2b7",
   "metadata": {},
   "source": [
    "### 3.0 Prepare data"
   ]
  },
  {
   "cell_type": "code",
   "execution_count": 24,
   "id": "08717298",
   "metadata": {},
   "outputs": [
    {
     "name": "stdout",
     "output_type": "stream",
     "text": [
      "X_train shape: (14993, 178)\n",
      "X_test shape: (3972, 177)\n"
     ]
    }
   ],
   "source": [
    "# Split into train and test again:\n",
    "X_train = data_df_proc.iloc[0:train_len]\n",
    "X_test = data_df_proc.iloc[train_len:]\n",
    "\n",
    "# Remove missing target column from test:\n",
    "X_test = X_test.drop(['AdoptionSpeed'], axis=1)\n",
    "\n",
    "print('X_train shape: {}'.format(X_train.shape))\n",
    "print('X_test shape: {}'.format(X_test.shape))\n",
    "\n",
    "assert X_train.shape[0] == train.shape[0]\n",
    "assert X_test.shape[0] == test.shape[0]\n",
    "\n",
    "# Check if columns between the two DFs are the same:\n",
    "train_cols = X_train.columns.tolist()\n",
    "train_cols.remove('AdoptionSpeed')\n",
    "\n",
    "test_cols = X_test.columns.tolist()\n",
    "\n",
    "assert np.all(train_cols == test_cols)"
   ]
  },
  {
   "cell_type": "code",
   "execution_count": 25,
   "id": "76eeae5e",
   "metadata": {},
   "outputs": [],
   "source": [
    "to_drop_columns = ['PetID', 'Name', 'RescuerID', 'AdoptionSpeed', \n",
    "                    'main_breed_BreedName', 'Description',\n",
    "                    'BreedName_full','Breed1Name','Breed2Name']"
   ]
  },
  {
   "cell_type": "markdown",
   "id": "e3766f78",
   "metadata": {},
   "source": [
    "### 3.1 NN Model"
   ]
  },
  {
   "cell_type": "code",
   "execution_count": 26,
   "id": "3f0f39a6",
   "metadata": {},
   "outputs": [],
   "source": [
    "# torch.manual_seed(1991)\n",
    "# torch.cuda.manual_seed(1991)\n",
    "# torch.backends.cudnn.deterministic = True"
   ]
  },
  {
   "cell_type": "code",
   "execution_count": 27,
   "id": "1059fe20",
   "metadata": {},
   "outputs": [],
   "source": [
    "# fm_cols = ['Type','age_in_year','Breed1','Breed2','Gender','Color1','Color2','Color3','MaturitySize',\n",
    "#            'FurLength','Vaccinated','Dewormed','Sterilized','Health','State','Breed_full',\n",
    "#            'Color_full', 'hard_interaction']\n",
    "# fm_data = data_df_proc[fm_cols]\n",
    "# fm_values = []\n",
    "# for c in fm_cols:\n",
    "#     fm_data.loc[:,c] = fm_data[c].fillna(0)\n",
    "#     fm_data.loc[:,c] = c+'_'+fm_data[c].astype(str)\n",
    "#     fm_values+=fm_data[c].unique().tolist()"
   ]
  },
  {
   "cell_type": "code",
   "execution_count": 28,
   "id": "c74f3e98",
   "metadata": {},
   "outputs": [],
   "source": [
    "# from sklearn.preprocessing import LabelEncoder\n",
    "# lbe = LabelEncoder()\n",
    "# lbe.fit(fm_values)\n",
    "# for c in fm_cols:\n",
    "#     fm_data.loc[:,c] = lbe.transform(fm_data[c])"
   ]
  },
  {
   "cell_type": "code",
   "execution_count": 29,
   "id": "698caf51",
   "metadata": {},
   "outputs": [],
   "source": [
    "# numerical_cols = [x for x in X_train.columns if x not in to_drop_columns+fm_cols]"
   ]
  },
  {
   "cell_type": "code",
   "execution_count": 30,
   "id": "efc1386a",
   "metadata": {},
   "outputs": [],
   "source": [
    "# numerical_feats = []\n",
    "# for c in numerical_cols:\n",
    "#     numerical_feats.append(data_df_proc[c].fillna(0))\n",
    "\n",
    "# numerical_feats = np.vstack(numerical_feats).T"
   ]
  },
  {
   "cell_type": "code",
   "execution_count": 31,
   "id": "31e7e984",
   "metadata": {},
   "outputs": [],
   "source": [
    "# X_train_numerical = numerical_feats[0:len(train)]\n",
    "# X_test_numerical = numerical_feats[len(train):]\n",
    "\n",
    "# X_train_fm = fm_data.iloc[0:len(train)].values\n",
    "# X_test_fm = fm_data.iloc[len(train):].values\n",
    "\n",
    "# Y_train = data_df.iloc[0:len(train)]['AdoptionSpeed'].values"
   ]
  },
  {
   "cell_type": "markdown",
   "id": "6b350f61",
   "metadata": {},
   "source": [
    "### 3.2 Xgboost Model"
   ]
  },
  {
   "cell_type": "markdown",
   "id": "3de721c0",
   "metadata": {},
   "source": [
    "### 3.2.0 Prepare Features"
   ]
  },
  {
   "cell_type": "code",
   "execution_count": 32,
   "id": "7f12ff6f",
   "metadata": {},
   "outputs": [
    {
     "data": {
      "text/plain": [
       "170"
      ]
     },
     "execution_count": 32,
     "metadata": {},
     "output_type": "execute_result"
    }
   ],
   "source": [
    "features = [x for x in X_train.columns if x not in to_drop_columns]\n",
    "xgb_features = features\n",
    "len(xgb_features)"
   ]
  },
  {
   "cell_type": "code",
   "execution_count": 33,
   "id": "999342e2",
   "metadata": {},
   "outputs": [],
   "source": [
    "def pet_xgboost(params, X_train=X_train, xgb_features=xgb_features, split_index=split_index, print_result=True):\n",
    "    oof_train_xgb = np.zeros((X_train.shape[0]))\n",
    "    qwks = []\n",
    "\n",
    "    for n_fold, (train_idx, valid_idx) in enumerate(split_index):  \n",
    "        X_tr = X_train.iloc[train_idx]\n",
    "        X_val = X_train.iloc[valid_idx]\n",
    "        \n",
    "        y_tr = X_tr['AdoptionSpeed'].values    \n",
    "        y_val = X_val['AdoptionSpeed'].values\n",
    "            \n",
    "        d_train = xgb.DMatrix(X_tr[xgb_features], y_tr)\n",
    "        d_valid = xgb.DMatrix(X_val[xgb_features], y_val)\n",
    "        \n",
    "        since = time.time()\n",
    "        if print_result:\n",
    "            print('training XGB:')\n",
    "        model = xgb.train(params, d_train, num_boost_round = 10000, evals=[(d_valid,'val')],\n",
    "                        early_stopping_rounds=100, \n",
    "                        verbose_eval=500)\n",
    "        \n",
    "        val_pred = model.predict(d_valid)\n",
    "        \n",
    "        oof_train_xgb[valid_idx] = val_pred\n",
    "        \n",
    "        hist = histogram(X_tr['AdoptionSpeed'].astype(int), \n",
    "                        int(np.min(X_train['AdoptionSpeed'])), \n",
    "                        int(np.max(X_train['AdoptionSpeed'])))\n",
    "        tr_cdf = get_cdf(hist)\n",
    "        \n",
    "        pred_test_y_k = getTestScore2(val_pred, tr_cdf)\n",
    "        qwk = quadratic_weighted_kappa(X_val['AdoptionSpeed'].values, pred_test_y_k)\n",
    "        qwks.append(qwk)\n",
    "        if print_result:\n",
    "            print(\"QWK_2 = \", qwk, 'elapsed time:', time.time()-since)\n",
    "        \n",
    "    # print('overall rmse: %.5f'%rmse(oof_train_xgb, X_train['AdoptionSpeed']))\n",
    "    # print('mean QWK =', np.mean(qwks), 'std QWK =', np.std(qwks))\n",
    "    return np.mean(qwks), np.std(qwks)"
   ]
  },
  {
   "cell_type": "markdown",
   "id": "6c7f4b96",
   "metadata": {},
   "source": [
    "### 3.2.1 Grid Search for Xgboost Classifier"
   ]
  },
  {
   "cell_type": "code",
   "execution_count": 34,
   "id": "cf749665",
   "metadata": {},
   "outputs": [],
   "source": [
    "from sklearn.model_selection import GridSearchCV"
   ]
  },
  {
   "cell_type": "code",
   "execution_count": 35,
   "id": "3d7cff4d",
   "metadata": {},
   "outputs": [],
   "source": [
    "xgb_classifier = xgb.XGBClassifier()\n",
    "params_search_grid = {\n",
    "        'eta': [0.01, 0.02, 0.05],\n",
    "        'max_depth': [5, 6, 7, 8, 9],  \n",
    "        'subsample': [0.8, 0.9, 1.0],  \n",
    "        'colsample_bytree': [0.7,0.8, 0.9, 1.0],     \n",
    "        'alpha': [0.01, 0.02, 0.05, 0.1]\n",
    "}\n",
    "grid_search = GridSearchCV(estimator=xgb_classifier, param_grid=params_search_grid, cv=5)\n",
    "# grid_search.fit(X_train[xgb_features], X_train['AdoptionSpeed'])\n",
    "# grid_search.best_params_"
   ]
  },
  {
   "cell_type": "code",
   "execution_count": 36,
   "id": "98d1c333",
   "metadata": {},
   "outputs": [
    {
     "name": "stdout",
     "output_type": "stream",
     "text": [
      "training XGB:\n",
      "[0]\tval-mlogloss:1.59244\n",
      "[210]\tval-mlogloss:1.26943\n",
      "QWK_2 =  0.41960236566026343 elapsed time: 7.485885143280029\n",
      "training XGB:\n",
      "[0]\tval-mlogloss:1.59109\n",
      "[232]\tval-mlogloss:1.28122\n",
      "QWK_2 =  0.41240171593395614 elapsed time: 16.568795919418335\n",
      "training XGB:\n",
      "[0]\tval-mlogloss:1.59123\n",
      "[206]\tval-mlogloss:1.29485\n",
      "QWK_2 =  0.36608843692666715 elapsed time: 10.96882963180542\n",
      "training XGB:\n",
      "[0]\tval-mlogloss:1.59188\n",
      "[214]\tval-mlogloss:1.27252\n",
      "QWK_2 =  0.4036103655228005 elapsed time: 12.04029893875122\n",
      "training XGB:\n",
      "[0]\tval-mlogloss:1.59241\n",
      "[197]\tval-mlogloss:1.30515\n",
      "QWK_2 =  0.3816957857782316 elapsed time: 6.154520511627197\n"
     ]
    }
   ],
   "source": [
    "class_params = {'alpha': 0.05,\n",
    " 'colsample_bytree': 0.8,\n",
    " 'eta': 0.05,\n",
    " 'max_depth': 9,\n",
    " 'subsample': 0.9,\n",
    " 'objective':'multi:softmax',\n",
    " 'num_class': 5}\n",
    "qwk_mean, qwk_std= pet_xgboost(class_params, split_index=split_index)"
   ]
  },
  {
   "cell_type": "markdown",
   "id": "e001dded",
   "metadata": {},
   "source": [
    "### 3.2.2 Grid Search for Xgboost Regressor"
   ]
  },
  {
   "cell_type": "code",
   "execution_count": 37,
   "id": "302e6967",
   "metadata": {},
   "outputs": [],
   "source": [
    "params_search_grid = {\n",
    "        'objective': ['reg:squarederror'],\n",
    "        'eval_metric':['rmse'],\n",
    "        'tree_method':['hist'],\n",
    "        # 'device':['gpu'],\n",
    "        'eta': [0.01, 0.02, 0.05],\n",
    "        'max_depth': [5, 6, 7, 8, 9],  \n",
    "        'subsample': [0.8, 0.9, 1.0],  \n",
    "        'colsample_bytree': [0.7,0.8, 0.9, 1.0],     \n",
    "        'alpha': [0.01, 0.02, 0.05, 0.1]\n",
    "}\n",
    "xgb_model = xgb.XGBRegressor()\n",
    "grid_search = GridSearchCV(estimator=xgb_model, param_grid=params_search_grid, scoring='neg_mean_squared_error', cv=split_index)\n",
    "# grid_search.fit(X_train[xgb_features], X_train['AdoptionSpeed'])"
   ]
  },
  {
   "cell_type": "code",
   "execution_count": 38,
   "id": "5944d0c9",
   "metadata": {},
   "outputs": [],
   "source": [
    "# grid_search.best_params_\n",
    "# pet_xgboost(grid_search.best_params_, split_index=split_index)"
   ]
  },
  {
   "cell_type": "markdown",
   "id": "f380b488",
   "metadata": {},
   "source": [
    "### 3.2.3 Xgboost Regressor Final Model"
   ]
  },
  {
   "cell_type": "code",
   "execution_count": 39,
   "id": "2a16fed9",
   "metadata": {},
   "outputs": [
    {
     "name": "stdout",
     "output_type": "stream",
     "text": [
      "[0]\tval-rmse:1.17506\n",
      "[500]\tval-rmse:1.02552\n",
      "[1000]\tval-rmse:1.01846\n",
      "[1269]\tval-rmse:1.01881\n",
      "[0]\tval-rmse:1.17519\n",
      "[500]\tval-rmse:1.02704\n",
      "[1000]\tval-rmse:1.02103\n",
      "[1433]\tval-rmse:1.02017\n",
      "[0]\tval-rmse:1.17539\n",
      "[500]\tval-rmse:1.03795\n",
      "[1000]\tval-rmse:1.03209\n",
      "[1500]\tval-rmse:1.03097\n",
      "[1645]\tval-rmse:1.03095\n",
      "[0]\tval-rmse:1.17518\n",
      "[500]\tval-rmse:1.02841\n",
      "[1000]\tval-rmse:1.02204\n",
      "[1500]\tval-rmse:1.02089\n",
      "[1509]\tval-rmse:1.02095\n",
      "[0]\tval-rmse:1.17532\n",
      "[500]\tval-rmse:1.03939\n",
      "[1000]\tval-rmse:1.03356\n",
      "[1427]\tval-rmse:1.03241\n"
     ]
    },
    {
     "data": {
      "text/plain": [
       "(0.47013486926178166, 0.010354875092827545)"
      ]
     },
     "execution_count": 39,
     "metadata": {},
     "output_type": "execute_result"
    }
   ],
   "source": [
    "params = {\n",
    "        'objective': 'reg:squarederror',\n",
    "        'eval_metric':'rmse',\n",
    "        'tree_method':'hist',\n",
    "        'eta': 0.01,\n",
    "        'max_depth': 7,  \n",
    "        'subsample': 0.8,  \n",
    "        'colsample_bytree': 0.8,     \n",
    "        'alpha': 0.05\n",
    "}\n",
    "pet_xgboost(params, split_index=split_index, print_result=False)"
   ]
  },
  {
   "cell_type": "code",
   "execution_count": 40,
   "id": "46b6dafe",
   "metadata": {},
   "outputs": [
    {
     "name": "stdout",
     "output_type": "stream",
     "text": [
      "training XGB:\n",
      "[0]\tval-rmse:1.17491\n",
      "[500]\tval-rmse:1.02309\n",
      "[1000]\tval-rmse:1.01880\n",
      "[1006]\tval-rmse:1.01883\n",
      "QWK_2 =  0.47639085724574326 elapsed time: 6.54681134223938\n",
      "training XGB:\n",
      "[0]\tval-rmse:1.17504\n",
      "[500]\tval-rmse:1.02187\n",
      "[1000]\tval-rmse:1.01796\n",
      "[1104]\tval-rmse:1.01818\n",
      "QWK_2 =  0.48264888029313113 elapsed time: 8.544617652893066\n",
      "training XGB:\n",
      "[0]\tval-rmse:1.17525\n",
      "[500]\tval-rmse:1.03200\n",
      "[1000]\tval-rmse:1.02786\n",
      "[1160]\tval-rmse:1.02804\n",
      "QWK_2 =  0.4685728110705911 elapsed time: 8.841068029403687\n",
      "training XGB:\n",
      "[0]\tval-rmse:1.17493\n",
      "[500]\tval-rmse:1.02462\n",
      "[972]\tval-rmse:1.02031\n",
      "QWK_2 =  0.4739296763515273 elapsed time: 6.6106858253479\n",
      "training XGB:\n",
      "[0]\tval-rmse:1.17522\n",
      "[500]\tval-rmse:1.03630\n",
      "[915]\tval-rmse:1.03247\n",
      "QWK_2 =  0.4556273899714478 elapsed time: 7.043065547943115\n"
     ]
    },
    {
     "data": {
      "text/plain": [
       "(0.4714339229864882, 0.009106126474526414)"
      ]
     },
     "execution_count": 40,
     "metadata": {},
     "output_type": "execute_result"
    }
   ],
   "source": [
    "params_base = {\n",
    "        'objective': 'reg:squarederror',\n",
    "        'eval_metric':'rmse',\n",
    "        'tree_method':'hist',\n",
    "}\n",
    "params_search = {\n",
    "        'eta': 0.01,\n",
    "        'max_depth': 8,  \n",
    "        'subsample': 0.8,  \n",
    "        'colsample_bytree': 0.8,     \n",
    "        'alpha': 0.05\n",
    "}\n",
    "\n",
    "pet_xgboost({**params_base, **params_search}, split_index=split_index)"
   ]
  },
  {
   "cell_type": "code",
   "execution_count": 41,
   "id": "f309cbc4",
   "metadata": {},
   "outputs": [
    {
     "name": "stdout",
     "output_type": "stream",
     "text": [
      "[0]\tval-rmse:1.17481\n",
      "[500]\tval-rmse:1.02170\n",
      "[829]\tval-rmse:1.02051\n",
      "[0]\tval-rmse:1.17493\n",
      "[500]\tval-rmse:1.02016\n",
      "[907]\tval-rmse:1.01908\n",
      "[0]\tval-rmse:1.17501\n",
      "[500]\tval-rmse:1.03115\n",
      "[831]\tval-rmse:1.03019\n",
      "[0]\tval-rmse:1.17480\n",
      "[500]\tval-rmse:1.02494\n",
      "[822]\tval-rmse:1.02234\n",
      "[0]\tval-rmse:1.17509\n",
      "[500]\tval-rmse:1.03383\n",
      "[986]\tval-rmse:1.03164\n"
     ]
    },
    {
     "data": {
      "text/plain": [
       "(0.46724714846362525, 0.007754887264529278)"
      ]
     },
     "execution_count": 41,
     "metadata": {},
     "output_type": "execute_result"
    }
   ],
   "source": [
    "params_base = {\n",
    "        'objective': 'reg:squarederror',\n",
    "        'eval_metric':'rmse',\n",
    "        'tree_method':'hist',\n",
    "        # 'device':'cuda:0',\n",
    "}\n",
    "params_search = {\n",
    "        'eta': 0.01,\n",
    "        'max_depth': 9,  \n",
    "        'subsample': 0.8,  \n",
    "        'colsample_bytree': 0.8,     \n",
    "        'alpha': 0.01\n",
    "}\n",
    "\n",
    "pet_xgboost({**params_base, **params_search}, split_index=split_index, print_result=False)"
   ]
  },
  {
   "cell_type": "markdown",
   "id": "788b20e7",
   "metadata": {},
   "source": [
    "### Importances"
   ]
  },
  {
   "cell_type": "code",
   "execution_count": 42,
   "id": "3906840e",
   "metadata": {},
   "outputs": [
    {
     "data": {
      "text/html": [
       "<style>#sk-container-id-1 {color: black;}#sk-container-id-1 pre{padding: 0;}#sk-container-id-1 div.sk-toggleable {background-color: white;}#sk-container-id-1 label.sk-toggleable__label {cursor: pointer;display: block;width: 100%;margin-bottom: 0;padding: 0.3em;box-sizing: border-box;text-align: center;}#sk-container-id-1 label.sk-toggleable__label-arrow:before {content: \"▸\";float: left;margin-right: 0.25em;color: #696969;}#sk-container-id-1 label.sk-toggleable__label-arrow:hover:before {color: black;}#sk-container-id-1 div.sk-estimator:hover label.sk-toggleable__label-arrow:before {color: black;}#sk-container-id-1 div.sk-toggleable__content {max-height: 0;max-width: 0;overflow: hidden;text-align: left;background-color: #f0f8ff;}#sk-container-id-1 div.sk-toggleable__content pre {margin: 0.2em;color: black;border-radius: 0.25em;background-color: #f0f8ff;}#sk-container-id-1 input.sk-toggleable__control:checked~div.sk-toggleable__content {max-height: 200px;max-width: 100%;overflow: auto;}#sk-container-id-1 input.sk-toggleable__control:checked~label.sk-toggleable__label-arrow:before {content: \"▾\";}#sk-container-id-1 div.sk-estimator input.sk-toggleable__control:checked~label.sk-toggleable__label {background-color: #d4ebff;}#sk-container-id-1 div.sk-label input.sk-toggleable__control:checked~label.sk-toggleable__label {background-color: #d4ebff;}#sk-container-id-1 input.sk-hidden--visually {border: 0;clip: rect(1px 1px 1px 1px);clip: rect(1px, 1px, 1px, 1px);height: 1px;margin: -1px;overflow: hidden;padding: 0;position: absolute;width: 1px;}#sk-container-id-1 div.sk-estimator {font-family: monospace;background-color: #f0f8ff;border: 1px dotted black;border-radius: 0.25em;box-sizing: border-box;margin-bottom: 0.5em;}#sk-container-id-1 div.sk-estimator:hover {background-color: #d4ebff;}#sk-container-id-1 div.sk-parallel-item::after {content: \"\";width: 100%;border-bottom: 1px solid gray;flex-grow: 1;}#sk-container-id-1 div.sk-label:hover label.sk-toggleable__label {background-color: #d4ebff;}#sk-container-id-1 div.sk-serial::before {content: \"\";position: absolute;border-left: 1px solid gray;box-sizing: border-box;top: 0;bottom: 0;left: 50%;z-index: 0;}#sk-container-id-1 div.sk-serial {display: flex;flex-direction: column;align-items: center;background-color: white;padding-right: 0.2em;padding-left: 0.2em;position: relative;}#sk-container-id-1 div.sk-item {position: relative;z-index: 1;}#sk-container-id-1 div.sk-parallel {display: flex;align-items: stretch;justify-content: center;background-color: white;position: relative;}#sk-container-id-1 div.sk-item::before, #sk-container-id-1 div.sk-parallel-item::before {content: \"\";position: absolute;border-left: 1px solid gray;box-sizing: border-box;top: 0;bottom: 0;left: 50%;z-index: -1;}#sk-container-id-1 div.sk-parallel-item {display: flex;flex-direction: column;z-index: 1;position: relative;background-color: white;}#sk-container-id-1 div.sk-parallel-item:first-child::after {align-self: flex-end;width: 50%;}#sk-container-id-1 div.sk-parallel-item:last-child::after {align-self: flex-start;width: 50%;}#sk-container-id-1 div.sk-parallel-item:only-child::after {width: 0;}#sk-container-id-1 div.sk-dashed-wrapped {border: 1px dashed gray;margin: 0 0.4em 0.5em 0.4em;box-sizing: border-box;padding-bottom: 0.4em;background-color: white;}#sk-container-id-1 div.sk-label label {font-family: monospace;font-weight: bold;display: inline-block;line-height: 1.2em;}#sk-container-id-1 div.sk-label-container {text-align: center;}#sk-container-id-1 div.sk-container {/* jupyter's `normalize.less` sets `[hidden] { display: none; }` but bootstrap.min.css set `[hidden] { display: none !important; }` so we also need the `!important` here to be able to override the default hidden behavior on the sphinx rendered scikit-learn.org. See: https://github.com/scikit-learn/scikit-learn/issues/21755 */display: inline-block !important;position: relative;}#sk-container-id-1 div.sk-text-repr-fallback {display: none;}</style><div id=\"sk-container-id-1\" class=\"sk-top-container\"><div class=\"sk-text-repr-fallback\"><pre>XGBRegressor(alpha=0.05, base_score=None, booster=None, callbacks=None,\n",
       "             colsample_bylevel=None, colsample_bynode=None,\n",
       "             colsample_bytree=0.8, device=None, early_stopping_rounds=None,\n",
       "             enable_categorical=False, eta=0.01, eval_metric=&#x27;rmse&#x27;,\n",
       "             feature_types=None, gamma=None, grow_policy=None,\n",
       "             importance_type=None, interaction_constraints=None,\n",
       "             learning_rate=None, max_bin=None, max_cat_threshold=None,\n",
       "             max_cat_to_onehot=None, max_delta_step=None, max_depth=7,\n",
       "             max_leaves=None, min_child_weight=None, missing=nan,\n",
       "             monotone_constraints=None, multi_strategy=None, n_estimators=None,\n",
       "             n_jobs=None, ...)</pre><b>In a Jupyter environment, please rerun this cell to show the HTML representation or trust the notebook. <br />On GitHub, the HTML representation is unable to render, please try loading this page with nbviewer.org.</b></div><div class=\"sk-container\" hidden><div class=\"sk-item\"><div class=\"sk-estimator sk-toggleable\"><input class=\"sk-toggleable__control sk-hidden--visually\" id=\"sk-estimator-id-1\" type=\"checkbox\" checked><label for=\"sk-estimator-id-1\" class=\"sk-toggleable__label sk-toggleable__label-arrow\">XGBRegressor</label><div class=\"sk-toggleable__content\"><pre>XGBRegressor(alpha=0.05, base_score=None, booster=None, callbacks=None,\n",
       "             colsample_bylevel=None, colsample_bynode=None,\n",
       "             colsample_bytree=0.8, device=None, early_stopping_rounds=None,\n",
       "             enable_categorical=False, eta=0.01, eval_metric=&#x27;rmse&#x27;,\n",
       "             feature_types=None, gamma=None, grow_policy=None,\n",
       "             importance_type=None, interaction_constraints=None,\n",
       "             learning_rate=None, max_bin=None, max_cat_threshold=None,\n",
       "             max_cat_to_onehot=None, max_delta_step=None, max_depth=7,\n",
       "             max_leaves=None, min_child_weight=None, missing=nan,\n",
       "             monotone_constraints=None, multi_strategy=None, n_estimators=None,\n",
       "             n_jobs=None, ...)</pre></div></div></div></div></div>"
      ],
      "text/plain": [
       "XGBRegressor(alpha=0.05, base_score=None, booster=None, callbacks=None,\n",
       "             colsample_bylevel=None, colsample_bynode=None,\n",
       "             colsample_bytree=0.8, device=None, early_stopping_rounds=None,\n",
       "             enable_categorical=False, eta=0.01, eval_metric='rmse',\n",
       "             feature_types=None, gamma=None, grow_policy=None,\n",
       "             importance_type=None, interaction_constraints=None,\n",
       "             learning_rate=None, max_bin=None, max_cat_threshold=None,\n",
       "             max_cat_to_onehot=None, max_delta_step=None, max_depth=7,\n",
       "             max_leaves=None, min_child_weight=None, missing=nan,\n",
       "             monotone_constraints=None, multi_strategy=None, n_estimators=None,\n",
       "             n_jobs=None, ...)"
      ]
     },
     "execution_count": 42,
     "metadata": {},
     "output_type": "execute_result"
    }
   ],
   "source": [
    "from xgboost import XGBRegressor\n",
    "params = {\n",
    "        'objective': 'reg:squarederror',\n",
    "        'eval_metric':'rmse',\n",
    "        'tree_method':'hist',\n",
    "        'eta': 0.01,\n",
    "        'max_depth': 7,  \n",
    "        'subsample': 0.8,  \n",
    "        'colsample_bytree': 0.8,     \n",
    "        'alpha': 0.05\n",
    "}\n",
    "train_idx, valid_idx = split_index[0]\n",
    "\n",
    "X_tr = X_train.iloc[train_idx]\n",
    "X_val = X_train.iloc[valid_idx]\n",
    "        \n",
    "y_tr = X_tr['AdoptionSpeed'].values    \n",
    "y_val = X_val['AdoptionSpeed'].values\n",
    "            \n",
    "d_train = xgb.DMatrix(X_tr[xgb_features], y_tr)\n",
    "d_valid = xgb.DMatrix(X_val[xgb_features], y_val)\n",
    "# Get the importance of each feature\n",
    "\n",
    "model = XGBRegressor(**params)\n",
    "model.fit(X_tr[xgb_features], y_tr)\n",
    "# model = xgb.train(params, d_train, num_boost_round = 10000, evals=[(d_valid,'val')], early_stopping_rounds=100, verbose_eval=500)"
   ]
  },
  {
   "cell_type": "code",
   "execution_count": 43,
   "id": "7e369b8d",
   "metadata": {},
   "outputs": [
    {
     "data": {
      "image/png": "[encoded data removed]",
      "text/plain": [
       "<Figure size 2000x1000 with 1 Axes>"
      ]
     },
     "metadata": {},
     "output_type": "display_data"
    }
   ],
   "source": [
    "import matplotlib.pyplot as plt\n",
    "all_feature = pd.DataFrame({'feature':xgb_features, 'importance':model.feature_importances_})\n",
    "all_feature.sort_values('importance', ascending=True, inplace=True)\n",
    "to_plot = all_feature[-10:]\n",
    "plt.figure(figsize=(20,10))\n",
    "plt.barh(to_plot['feature'], to_plot['importance'])\n",
    "plt.xlabel('Feature importance', fontsize=20)\n",
    "# plt.ylabel('Feature', fontsize=20)\n",
    "plt.yticks(fontsize=20)\n",
    "plt.xticks(fontsize=20)\n",
    "plt.title('10 TOP XGB features', fontsize=20)\n",
    "plt.savefig('./figure/xgb_feature_importance.png',dpi=300)\n",
    "# plt.show()\n"
   ]
  }
 ],
 "metadata": {
  "kernelspec": {
   "display_name": "Python 3 (ipykernel)",
   "language": "python",
   "name": "python3"
  },
  "language_info": {
   "codemirror_mode": {
    "name": "ipython",
    "version": 3
   },
   "file_extension": ".py",
   "mimetype": "text/x-python",
   "name": "python",
   "nbconvert_exporter": "python",
   "pygments_lexer": "ipython3",
   "version": "3.10.12"
  }
 },
 "nbformat": 4,
 "nbformat_minor": 5
}
