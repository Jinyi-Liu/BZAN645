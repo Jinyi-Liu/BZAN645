{
 "cells": [
  {
   "cell_type": "code",
   "execution_count": 1,
   "metadata": {},
   "outputs": [],
   "source": [
    "import pandas as pd\n",
    "import numpy as np\n",
    "import torch\n",
    "import torch.nn as nn\n",
    "path = '/app/code'\n",
    "# path='.'"
   ]
  },
  {
   "cell_type": "code",
   "execution_count": 2,
   "metadata": {},
   "outputs": [],
   "source": [
    "# Load data from csv\n",
    "data_df = pd.read_csv(path+'/data/train/train.csv')\n",
    "# data_df.columns\n",
    "cols_to_drop = ['Name','RescuerID','VideoAmt','Description','PetID','PhotoAmt']\n",
    "data_df.drop(cols_to_drop, axis=1, inplace=True)\n",
    "data_df['Type'] -= 1\n",
    "\n",
    "data = data_df.drop('Type', axis=1)\n",
    "label = data_df['Type']"
   ]
  },
  {
   "cell_type": "code",
   "execution_count": 6,
   "metadata": {},
   "outputs": [],
   "source": [
    "cat_cols = ['Breed1','Breed2','Color1','Color2','Color3','State']\n",
    "data['State'] = data['State'].astype('category')\n",
    "data['Breed1'] = data['Breed1'].astype('category')\n",
    "data['Breed2'] = data['Breed2'].astype('category')\n",
    "data['Color1'] = data['Color1'].astype('category')\n",
    "data['Color2'] = data['Color2'].astype('category')\n",
    "data['Color3'] = data['Color3'].astype('category')\n"
   ]
  },
  {
   "cell_type": "code",
   "execution_count": 7,
   "metadata": {},
   "outputs": [
    {
     "data": {
      "text/plain": [
       "State\n",
       "41326    8714\n",
       "41401    3845\n",
       "41327     843\n",
       "41336     507\n",
       "41330     420\n",
       "41332     253\n",
       "41324     137\n",
       "41325     110\n",
       "41335      85\n",
       "41361      26\n",
       "41345      22\n",
       "41367      15\n",
       "41342      13\n",
       "41415       3\n",
       "Name: count, dtype: int64"
      ]
     },
     "execution_count": 7,
     "metadata": {},
     "output_type": "execute_result"
    }
   ],
   "source": [
    "data['State'].value_counts()"
   ]
  }
 ],
 "metadata": {
  "kernelspec": {
   "display_name": "Python 3",
   "language": "python",
   "name": "python3"
  },
  "language_info": {
   "codemirror_mode": {
    "name": "ipython",
    "version": 3
   },
   "file_extension": ".py",
   "mimetype": "text/x-python",
   "name": "python",
   "nbconvert_exporter": "python",
   "pygments_lexer": "ipython3",
   "version": "3.10.12"
  }
 },
 "nbformat": 4,
 "nbformat_minor": 2
}
